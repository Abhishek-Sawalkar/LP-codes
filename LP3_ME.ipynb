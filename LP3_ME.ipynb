{
  "nbformat": 4,
  "nbformat_minor": 0,
  "metadata": {
    "colab": {
      "name": "LP3_ME.ipynb",
      "provenance": [],
      "collapsed_sections": [
        "Wo0sUDuHmi6V",
        "YS2MFf-b15PA",
        "EvlfhVWf19gz",
        "H1mRqMdu_U2-"
      ]
    },
    "kernelspec": {
      "name": "python3",
      "display_name": "Python 3"
    },
    "language_info": {
      "name": "python"
    }
  },
  "cells": [
    {
      "cell_type": "markdown",
      "source": [
        "# ML 1"
      ],
      "metadata": {
        "id": "Wo0sUDuHmi6V"
      }
    },
    {
      "cell_type": "code",
      "execution_count": 1,
      "metadata": {
        "id": "_1dxdKoDmfBr"
      },
      "outputs": [],
      "source": [
        "import numpy as np\n",
        "import seaborn as sns \n",
        "import matplotlib.pyplot as plt"
      ]
    },
    {
      "cell_type": "code",
      "source": [
        "data = [\n",
        "        (10, 95),\n",
        "        (9, 80),\n",
        "        (2, 10),\n",
        "        (15, 50),\n",
        "        (10, 45),\n",
        "        (16, 98),\n",
        "        (11, 38),\n",
        "        (16, 93),\n",
        "]\n",
        "X = [pt[0] for pt in data]\n",
        "Y = [pt[1] for pt in data]"
      ],
      "metadata": {
        "id": "8NBYwHvezJFd"
      },
      "execution_count": 2,
      "outputs": []
    },
    {
      "cell_type": "code",
      "source": [
        "sns.scatterplot(X, Y, s=100)\n",
        "sns.scatterplot(Y, X, s=100)"
      ],
      "metadata": {
        "colab": {
          "base_uri": "https://localhost:8080/",
          "height": 376
        },
        "id": "UhMPDp_nzTjA",
        "outputId": "48d10950-4762-4692-8a0c-62567399587f"
      },
      "execution_count": 5,
      "outputs": [
        {
          "output_type": "stream",
          "name": "stderr",
          "text": [
            "/usr/local/lib/python3.7/dist-packages/seaborn/_decorators.py:43: FutureWarning: Pass the following variables as keyword args: x, y. From version 0.12, the only valid positional argument will be `data`, and passing other arguments without an explicit keyword will result in an error or misinterpretation.\n",
            "  FutureWarning\n",
            "/usr/local/lib/python3.7/dist-packages/seaborn/_decorators.py:43: FutureWarning: Pass the following variables as keyword args: x, y. From version 0.12, the only valid positional argument will be `data`, and passing other arguments without an explicit keyword will result in an error or misinterpretation.\n",
            "  FutureWarning\n"
          ]
        },
        {
          "output_type": "execute_result",
          "data": {
            "text/plain": [
              "<matplotlib.axes._subplots.AxesSubplot at 0x7f30bf9c7c90>"
            ]
          },
          "metadata": {},
          "execution_count": 5
        },
        {
          "output_type": "display_data",
          "data": {
            "text/plain": [
              "<Figure size 432x288 with 1 Axes>"
            ],
            "image/png": "[encoded data removed]"
          },
          "metadata": {
            "needs_background": "light"
          }
        }
      ]
    },
    {
      "cell_type": "code",
      "source": [
        "xx = [a*a for a in X]\n",
        "xy = [X[i] * Y[i] for i in range(len(X))]"
      ],
      "metadata": {
        "id": "jkJP8bn3zUrg"
      },
      "execution_count": 6,
      "outputs": []
    },
    {
      "cell_type": "code",
      "source": [
        "sum_x = np.sum(X)\n",
        "sum_y = np.sum(Y)\n",
        "sum_xx = np.sum(xx)\n",
        "sum_xy = np.sum(xy)"
      ],
      "metadata": {
        "id": "9LDWJs8yz0O4"
      },
      "execution_count": 9,
      "outputs": []
    },
    {
      "cell_type": "code",
      "source": [
        "m = (len(X) * sum_xy - sum_x * sum_y)/(len(X) * sum_xx - sum_x * sum_x)"
      ],
      "metadata": {
        "id": "mPlU5xYgz1nB"
      },
      "execution_count": 11,
      "outputs": []
    },
    {
      "cell_type": "code",
      "source": [
        "b = (sum_y - m * sum_x)/len(X)"
      ],
      "metadata": {
        "id": "97DVR3m70X6q"
      },
      "execution_count": 13,
      "outputs": []
    },
    {
      "cell_type": "code",
      "source": [
        "print(f'Linear equation: y = {round(m, 2)} * x + {round(b, 2)}')"
      ],
      "metadata": {
        "colab": {
          "base_uri": "https://localhost:8080/"
        },
        "id": "VC-jG1nq0iOO",
        "outputId": "f893e826-ddb4-4c7c-bf06-77df486131a6"
      },
      "execution_count": 15,
      "outputs": [
        {
          "output_type": "stream",
          "name": "stdout",
          "text": [
            "Linear equation: y = 4.59 * x + 12.58\n"
          ]
        }
      ]
    },
    {
      "cell_type": "code",
      "source": [
        "sns.scatterplot(X, Y, s=100)\n",
        "x_val = np.array(X)\n",
        "y_val = b + x_val*m\n",
        "plt.plot(X, y_val)"
      ],
      "metadata": {
        "colab": {
          "base_uri": "https://localhost:8080/",
          "height": 339
        },
        "id": "qQadKLnK0tXg",
        "outputId": "a59520c8-5b64-4cf0-e9ea-0781553d30f9"
      },
      "execution_count": 19,
      "outputs": [
        {
          "output_type": "stream",
          "name": "stderr",
          "text": [
            "/usr/local/lib/python3.7/dist-packages/seaborn/_decorators.py:43: FutureWarning: Pass the following variables as keyword args: x, y. From version 0.12, the only valid positional argument will be `data`, and passing other arguments without an explicit keyword will result in an error or misinterpretation.\n",
            "  FutureWarning\n"
          ]
        },
        {
          "output_type": "execute_result",
          "data": {
            "text/plain": [
              "[<matplotlib.lines.Line2D at 0x7f30c1a63310>]"
            ]
          },
          "metadata": {},
          "execution_count": 19
        },
        {
          "output_type": "display_data",
          "data": {
            "text/plain": [
              "<Figure size 432x288 with 1 Axes>"
            ],
            "image/png": "[encoded data removed]"
          },
          "metadata": {
            "needs_background": "light"
          }
        }
      ]
    },
    {
      "cell_type": "markdown",
      "source": [
        "# ML 2"
      ],
      "metadata": {
        "id": "YS2MFf-b15PA"
      }
    },
    {
      "cell_type": "code",
      "source": [
        ""
      ],
      "metadata": {
        "id": "GG8r98Yh1wuv"
      },
      "execution_count": null,
      "outputs": []
    },
    {
      "cell_type": "code",
      "source": [
        ""
      ],
      "metadata": {
        "id": "74Y37KQc12mN"
      },
      "execution_count": null,
      "outputs": []
    },
    {
      "cell_type": "markdown",
      "source": [
        ""
      ],
      "metadata": {
        "id": "7quk-u3M18jr"
      }
    },
    {
      "cell_type": "markdown",
      "source": [
        "# ML 3"
      ],
      "metadata": {
        "id": "EvlfhVWf19gz"
      }
    },
    {
      "cell_type": "code",
      "source": [
        "import numpy as np"
      ],
      "metadata": {
        "id": "AyancA7J1-yO"
      },
      "execution_count": 24,
      "outputs": []
    },
    {
      "cell_type": "code",
      "source": [
        "class KNN:\n",
        "  def __init__(self, k):\n",
        "    self.k = k\n",
        "    self.X = []\n",
        "    self.y = []\n",
        "  \n",
        "  def fit(self, X, y):\n",
        "    self.X = self.X + X\n",
        "    self.y = self.y + y\n",
        "\n",
        "  def __distance(self, x, y):\n",
        "    return (x[0] - y[0])**2 + (x[1] - y[1])**2\n",
        "  \n",
        "  def __get_class(self, X):\n",
        "    distances = []\n",
        "    for i in range(len(self.X)):\n",
        "      distances.append((self.__distance(X, self.X[i]), self.y[i]))\n",
        "    distances.sort()\n",
        "    distances = distances[:self.k]\n",
        "    count = {}\n",
        "    for d in distances:\n",
        "      try: count[d[1]] += 1\n",
        "      except: count[d[1]] = 1\n",
        "\n",
        "    print(distances)\n",
        "    return max(count, key = lambda i: count[i])\n",
        "\n",
        "  def predict(self, X):\n",
        "    preds = []\n",
        "    for x in X:\n",
        "      preds.append(self.__get_class(x))\n",
        "    return preds\n",
        "\n",
        "\n",
        "  def __get_weighted_class(self, X):\n",
        "    distances = []\n",
        "    for i in range(len(self.X)):\n",
        "      distances.append((self.__distance(X, self.X[i]), self.y[i]))\n",
        "    distances.sort()\n",
        "    distances = distances[:self.k]\n",
        "    count = {}\n",
        "    for d in distances:\n",
        "      try: count[d[1]] += 1/d[0]\n",
        "      except: count[d[1]] = 1/d[0]\n",
        "\n",
        "    print(distances)\n",
        "    return max(count, key = lambda i: count[i])\n",
        "    \n",
        "  def predict_weighted(self, X):\n",
        "    preds = []\n",
        "    for x in X:\n",
        "      preds.append(self.__get_weighted_class(x))\n",
        "    return preds\n",
        "\n",
        "\n",
        "  def __get_locally_weighted_class(self, X):\n",
        "    distances = []\n",
        "    for i in range(len(self.X)):\n",
        "      distances.append((self.__distance(X, self.X[i]), self.y[i]))\n",
        "    distances.sort()\n",
        "    distances = distances[:self.k]\n",
        "    count = {}\n",
        "    for d in distances:\n",
        "      try: count[d[1]].append(1/d[0])\n",
        "      except: count[d[1]] = [1/d[0]]\n",
        "    for c in count:\n",
        "      count[c] = np.mean(count[c])\n",
        "      \n",
        "    print(distances)\n",
        "    return max(count, key = lambda i: count[i])\n",
        "    \n",
        "  def predict_locally_weighted(self, X):\n",
        "    preds = []\n",
        "    for x in X:\n",
        "      preds.append(self.__get_locally_weighted_class(x))\n",
        "    return preds"
      ],
      "metadata": {
        "id": "cALpPWfE5OhS"
      },
      "execution_count": 47,
      "outputs": []
    },
    {
      "cell_type": "code",
      "source": [
        "X = [\n",
        "     (2, 4),\n",
        "     (4, 6),\n",
        "     (4, 4),\n",
        "     (4, 2),\n",
        "     (6, 4),\n",
        "     (6 ,2)\n",
        "]\n",
        "y = ['Y', 'Y', 'B', 'Y', 'Y', 'B']\n",
        "model = KNN(3)\n",
        "model.fit(X, y)\n",
        "print(f'Standard k-NN: {model.predict([(6, 6)])}')"
      ],
      "metadata": {
        "colab": {
          "base_uri": "https://localhost:8080/"
        },
        "id": "tg3S5Drw8q8S",
        "outputId": "6fad51e0-5c1e-4044-94aa-7b6c8ad10725"
      },
      "execution_count": 48,
      "outputs": [
        {
          "output_type": "stream",
          "name": "stdout",
          "text": [
            "[(4, 'Y'), (4, 'Y'), (8, 'B')]\n",
            "Standard k-NN: ['Y']\n"
          ]
        }
      ]
    },
    {
      "cell_type": "code",
      "source": [
        "print(f'Standard k-NN: {model.predict_weighted([(6, 6)])}')"
      ],
      "metadata": {
        "colab": {
          "base_uri": "https://localhost:8080/"
        },
        "id": "wsll54ch8zRz",
        "outputId": "bbc44374-843d-45bd-9e0b-b3befef02221"
      },
      "execution_count": 49,
      "outputs": [
        {
          "output_type": "stream",
          "name": "stdout",
          "text": [
            "[(4, 'Y'), (4, 'Y'), (8, 'B')]\n",
            "Standard k-NN: ['Y']\n"
          ]
        }
      ]
    },
    {
      "cell_type": "code",
      "source": [
        "print(f'Standard k-NN: {model.predict_locally_weighted([(6, 6)])}')"
      ],
      "metadata": {
        "colab": {
          "base_uri": "https://localhost:8080/"
        },
        "id": "6HP857bd-MGG",
        "outputId": "0e59bd20-1bfa-4a28-81ba-132af99097bc"
      },
      "execution_count": 50,
      "outputs": [
        {
          "output_type": "stream",
          "name": "stdout",
          "text": [
            "[(4, 'Y'), (4, 'Y'), (8, 'B')]\n",
            "Standard k-NN: ['Y']\n"
          ]
        }
      ]
    },
    {
      "cell_type": "code",
      "source": [
        ""
      ],
      "metadata": {
        "id": "jAV-53zp_QlB"
      },
      "execution_count": null,
      "outputs": []
    },
    {
      "cell_type": "markdown",
      "source": [
        "# ML 4"
      ],
      "metadata": {
        "id": "H1mRqMdu_U2-"
      }
    },
    {
      "cell_type": "code",
      "source": [
        "import pandas as pd\n",
        "import seaborn as sns"
      ],
      "metadata": {
        "id": "Vcafx6pq_V6w"
      },
      "execution_count": 51,
      "outputs": []
    },
    {
      "cell_type": "code",
      "source": [
        "class Kmeans:\n",
        "  def __init__(self, k):\n",
        "    self.k = k\n",
        "\n",
        "  def __distance(self, x, y):\n",
        "    return (x[0] - y[0])**2 + (x[1] - y[1])**2\n",
        "\n",
        "  def fit(self, points, centroids):\n",
        "    prev_clusters = None\n",
        "    clusters = [set() for _ in range(self.k)]\n",
        "    while prev_clusters != clusters:\n",
        "      prev_clusters = clusters\n",
        "      for p in points:\n",
        "        idx = 0\n",
        "        for i in range(1, self.k):\n",
        "          if self.__distance(p, centroids[i]) < self.__distance(p, centroids[idx]):\n",
        "            idx = i\n",
        "        clusters[idx].add(p)\n",
        "      for i in range(self.k):\n",
        "        centroids[i] = np.mean(list(clusters[i]), axis = 0)\n",
        "\n",
        "    return clusters, centroids \n"
      ],
      "metadata": {
        "id": "5QD2SSoKG251"
      },
      "execution_count": 65,
      "outputs": []
    },
    {
      "cell_type": "code",
      "source": [
        "points = [\n",
        "          (0.1, 0.6),\n",
        "          (0.15, 0.71),\n",
        "          (0.08,0.9),\n",
        "          (0.16, 0.85),\n",
        "          (0.2,0.3),\n",
        "          (0.25,0.5),\n",
        "          (0.24,0.1),\n",
        "          (0.3,0.2)\n",
        "]\n",
        "raw_df = pd.DataFrame()\n",
        "x = [pt[0] for pt in points]\n",
        "y = [pt[1] for pt in points]\n",
        "raw_df['x'] = x\n",
        "raw_df['y'] = y\n",
        "raw_df"
      ],
      "metadata": {
        "colab": {
          "base_uri": "https://localhost:8080/",
          "height": 300
        },
        "id": "TRFkEx5_JP0Q",
        "outputId": "ab64ea33-78b1-4342-a1a6-f4e2d41e1ca2"
      },
      "execution_count": 55,
      "outputs": [
        {
          "output_type": "execute_result",
          "data": {
            "text/plain": [
              "      x     y\n",
              "0  0.10  0.60\n",
              "1  0.15  0.71\n",
              "2  0.08  0.90\n",
              "3  0.16  0.85\n",
              "4  0.20  0.30\n",
              "5  0.25  0.50\n",
              "6  0.24  0.10\n",
              "7  0.30  0.20"
            ],
            "text/html": [
              "\n",
              "  <div id=\"df-e37aa4b6-d255-49b8-8202-f0ff80bab5bf\">\n",
              "    <div class=\"colab-df-container\">\n",
              "      <div>\n",
              "<style scoped>\n",
              "    .dataframe tbody tr th:only-of-type {\n",
              "        vertical-align: middle;\n",
              "    }\n",
              "\n",
              "    .dataframe tbody tr th {\n",
              "        vertical-align: top;\n",
              "    }\n",
              "\n",
              "    .dataframe thead th {\n",
              "        text-align: right;\n",
              "    }\n",
              "</style>\n",
              "<table border=\"1\" class=\"dataframe\">\n",
              "  <thead>\n",
              "    <tr style=\"text-align: right;\">\n",
              "      <th></th>\n",
              "      <th>x</th>\n",
              "      <th>y</th>\n",
              "    </tr>\n",
              "  </thead>\n",
              "  <tbody>\n",
              "    <tr>\n",
              "      <th>0</th>\n",
              "      <td>0.10</td>\n",
              "      <td>0.60</td>\n",
              "    </tr>\n",
              "    <tr>\n",
              "      <th>1</th>\n",
              "      <td>0.15</td>\n",
              "      <td>0.71</td>\n",
              "    </tr>\n",
              "    <tr>\n",
              "      <th>2</th>\n",
              "      <td>0.08</td>\n",
              "      <td>0.90</td>\n",
              "    </tr>\n",
              "    <tr>\n",
              "      <th>3</th>\n",
              "      <td>0.16</td>\n",
              "      <td>0.85</td>\n",
              "    </tr>\n",
              "    <tr>\n",
              "      <th>4</th>\n",
              "      <td>0.20</td>\n",
              "      <td>0.30</td>\n",
              "    </tr>\n",
              "    <tr>\n",
              "      <th>5</th>\n",
              "      <td>0.25</td>\n",
              "      <td>0.50</td>\n",
              "    </tr>\n",
              "    <tr>\n",
              "      <th>6</th>\n",
              "      <td>0.24</td>\n",
              "      <td>0.10</td>\n",
              "    </tr>\n",
              "    <tr>\n",
              "      <th>7</th>\n",
              "      <td>0.30</td>\n",
              "      <td>0.20</td>\n",
              "    </tr>\n",
              "  </tbody>\n",
              "</table>\n",
              "</div>\n",
              "      <button class=\"colab-df-convert\" onclick=\"convertToInteractive('df-e37aa4b6-d255-49b8-8202-f0ff80bab5bf')\"\n",
              "              title=\"Convert this dataframe to an interactive table.\"\n",
              "              style=\"display:none;\">\n",
              "        \n",
              "  <svg xmlns=\"http://www.w3.org/2000/svg\" height=\"24px\"viewBox=\"0 0 24 24\"\n",
              "       width=\"24px\">\n",
              "    <path d=\"M0 0h24v24H0V0z\" fill=\"none\"/>\n",
              "    <path d=\"M18.56 5.44l.94 2.06.94-2.06 2.06-.94-2.06-.94-.94-2.06-.94 2.06-2.06.94zm-11 1L8.5 8.5l.94-2.06 2.06-.94-2.06-.94L8.5 2.5l-.94 2.06-2.06.94zm10 10l.94 2.06.94-2.06 2.06-.94-2.06-.94-.94-2.06-.94 2.06-2.06.94z\"/><path d=\"M17.41 7.96l-1.37-1.37c-.4-.4-.92-.59-1.43-.59-.52 0-1.04.2-1.43.59L10.3 9.45l-7.72 7.72c-.78.78-.78 2.05 0 2.83L4 21.41c.39.39.9.59 1.41.59.51 0 1.02-.2 1.41-.59l7.78-7.78 2.81-2.81c.8-.78.8-2.07 0-2.86zM5.41 20L4 18.59l7.72-7.72 1.47 1.35L5.41 20z\"/>\n",
              "  </svg>\n",
              "      </button>\n",
              "      \n",
              "  <style>\n",
              "    .colab-df-container {\n",
              "      display:flex;\n",
              "      flex-wrap:wrap;\n",
              "      gap: 12px;\n",
              "    }\n",
              "\n",
              "    .colab-df-convert {\n",
              "      background-color: #E8F0FE;\n",
              "      border: none;\n",
              "      border-radius: 50%;\n",
              "      cursor: pointer;\n",
              "      display: none;\n",
              "      fill: #1967D2;\n",
              "      height: 32px;\n",
              "      padding: 0 0 0 0;\n",
              "      width: 32px;\n",
              "    }\n",
              "\n",
              "    .colab-df-convert:hover {\n",
              "      background-color: #E2EBFA;\n",
              "      box-shadow: 0px 1px 2px rgba(60, 64, 67, 0.3), 0px 1px 3px 1px rgba(60, 64, 67, 0.15);\n",
              "      fill: #174EA6;\n",
              "    }\n",
              "\n",
              "    [theme=dark] .colab-df-convert {\n",
              "      background-color: #3B4455;\n",
              "      fill: #D2E3FC;\n",
              "    }\n",
              "\n",
              "    [theme=dark] .colab-df-convert:hover {\n",
              "      background-color: #434B5C;\n",
              "      box-shadow: 0px 1px 3px 1px rgba(0, 0, 0, 0.15);\n",
              "      filter: drop-shadow(0px 1px 2px rgba(0, 0, 0, 0.3));\n",
              "      fill: #FFFFFF;\n",
              "    }\n",
              "  </style>\n",
              "\n",
              "      <script>\n",
              "        const buttonEl =\n",
              "          document.querySelector('#df-e37aa4b6-d255-49b8-8202-f0ff80bab5bf button.colab-df-convert');\n",
              "        buttonEl.style.display =\n",
              "          google.colab.kernel.accessAllowed ? 'block' : 'none';\n",
              "\n",
              "        async function convertToInteractive(key) {\n",
              "          const element = document.querySelector('#df-e37aa4b6-d255-49b8-8202-f0ff80bab5bf');\n",
              "          const dataTable =\n",
              "            await google.colab.kernel.invokeFunction('convertToInteractive',\n",
              "                                                     [key], {});\n",
              "          if (!dataTable) return;\n",
              "\n",
              "          const docLinkHtml = 'Like what you see? Visit the ' +\n",
              "            '<a target=\"_blank\" href=https://colab.research.google.com/notebooks/data_table.ipynb>data table notebook</a>'\n",
              "            + ' to learn more about interactive tables.';\n",
              "          element.innerHTML = '';\n",
              "          dataTable['output_type'] = 'display_data';\n",
              "          await google.colab.output.renderOutput(dataTable, element);\n",
              "          const docLink = document.createElement('div');\n",
              "          docLink.innerHTML = docLinkHtml;\n",
              "          element.appendChild(docLink);\n",
              "        }\n",
              "      </script>\n",
              "    </div>\n",
              "  </div>\n",
              "  "
            ]
          },
          "metadata": {},
          "execution_count": 55
        }
      ]
    },
    {
      "cell_type": "markdown",
      "source": [
        "## BEFORE CLUSTERING"
      ],
      "metadata": {
        "id": "POFKxz6jJlxt"
      }
    },
    {
      "cell_type": "code",
      "source": [
        "sns.scatterplot(data=raw_df, x='x', y = 'y')"
      ],
      "metadata": {
        "colab": {
          "base_uri": "https://localhost:8080/",
          "height": 297
        },
        "id": "YrEj8TGgJlXl",
        "outputId": "a3dfeb63-8509-461a-e4a3-7920fc801da1"
      },
      "execution_count": 56,
      "outputs": [
        {
          "output_type": "execute_result",
          "data": {
            "text/plain": [
              "<matplotlib.axes._subplots.AxesSubplot at 0x7f30be77aa90>"
            ]
          },
          "metadata": {},
          "execution_count": 56
        },
        {
          "output_type": "display_data",
          "data": {
            "text/plain": [
              "<Figure size 432x288 with 1 Axes>"
            ],
            "image/png": "[encoded data removed]"
          },
          "metadata": {
            "needs_background": "light"
          }
        }
      ]
    },
    {
      "cell_type": "markdown",
      "source": [
        "## AFTER CLUSTERING"
      ],
      "metadata": {
        "id": "A4KQVacEKLjj"
      }
    },
    {
      "cell_type": "code",
      "source": [
        "model = Kmeans(2)"
      ],
      "metadata": {
        "id": "AB3qTE5AKIH-"
      },
      "execution_count": 66,
      "outputs": []
    },
    {
      "cell_type": "code",
      "source": [
        "clusters, centroid = model.fit(points, [(0.1, 0.6), (0.3, 0.2)])"
      ],
      "metadata": {
        "id": "aKa1acrnKgmF"
      },
      "execution_count": 67,
      "outputs": []
    },
    {
      "cell_type": "code",
      "source": [
        "clustered_df = pd.DataFrame()\n",
        "x = []\n",
        "y = []\n",
        "category = []\n",
        "for i in range(len(clusters)):\n",
        "  for p in clusters[i]:\n",
        "    x.append(p[0])\n",
        "    y.append(p[1])\n",
        "    category.append(f'{i}')\n",
        "for c in centroid:\n",
        "  x.append(c[0])\n",
        "  y.append(c[1])\n",
        "  category.append('category')\n",
        "clustered_df['x'] = x\n",
        "clustered_df['y'] = y\n",
        "clustered_df['category'] = category\n",
        "clustered_df"
      ],
      "metadata": {
        "colab": {
          "base_uri": "https://localhost:8080/",
          "height": 363
        },
        "id": "NCwYdHWbLANR",
        "outputId": "3a9c6078-b7f9-41aa-e4e6-044cd78f1364"
      },
      "execution_count": 72,
      "outputs": [
        {
          "output_type": "execute_result",
          "data": {
            "text/plain": [
              "          x      y  category\n",
              "0  0.080000  0.900         0\n",
              "1  0.160000  0.850         0\n",
              "2  0.100000  0.600         0\n",
              "3  0.150000  0.710         0\n",
              "4  0.250000  0.500         0\n",
              "5  0.200000  0.300         1\n",
              "6  0.240000  0.100         1\n",
              "7  0.300000  0.200         1\n",
              "8  0.148000  0.712  category\n",
              "9  0.246667  0.200  category"
            ],
            "text/html": [
              "\n",
              "  <div id=\"df-746e659c-8c55-4092-b0b7-dea3e5ecc6be\">\n",
              "    <div class=\"colab-df-container\">\n",
              "      <div>\n",
              "<style scoped>\n",
              "    .dataframe tbody tr th:only-of-type {\n",
              "        vertical-align: middle;\n",
              "    }\n",
              "\n",
              "    .dataframe tbody tr th {\n",
              "        vertical-align: top;\n",
              "    }\n",
              "\n",
              "    .dataframe thead th {\n",
              "        text-align: right;\n",
              "    }\n",
              "</style>\n",
              "<table border=\"1\" class=\"dataframe\">\n",
              "  <thead>\n",
              "    <tr style=\"text-align: right;\">\n",
              "      <th></th>\n",
              "      <th>x</th>\n",
              "      <th>y</th>\n",
              "      <th>category</th>\n",
              "    </tr>\n",
              "  </thead>\n",
              "  <tbody>\n",
              "    <tr>\n",
              "      <th>0</th>\n",
              "      <td>0.080000</td>\n",
              "      <td>0.900</td>\n",
              "      <td>0</td>\n",
              "    </tr>\n",
              "    <tr>\n",
              "      <th>1</th>\n",
              "      <td>0.160000</td>\n",
              "      <td>0.850</td>\n",
              "      <td>0</td>\n",
              "    </tr>\n",
              "    <tr>\n",
              "      <th>2</th>\n",
              "      <td>0.100000</td>\n",
              "      <td>0.600</td>\n",
              "      <td>0</td>\n",
              "    </tr>\n",
              "    <tr>\n",
              "      <th>3</th>\n",
              "      <td>0.150000</td>\n",
              "      <td>0.710</td>\n",
              "      <td>0</td>\n",
              "    </tr>\n",
              "    <tr>\n",
              "      <th>4</th>\n",
              "      <td>0.250000</td>\n",
              "      <td>0.500</td>\n",
              "      <td>0</td>\n",
              "    </tr>\n",
              "    <tr>\n",
              "      <th>5</th>\n",
              "      <td>0.200000</td>\n",
              "      <td>0.300</td>\n",
              "      <td>1</td>\n",
              "    </tr>\n",
              "    <tr>\n",
              "      <th>6</th>\n",
              "      <td>0.240000</td>\n",
              "      <td>0.100</td>\n",
              "      <td>1</td>\n",
              "    </tr>\n",
              "    <tr>\n",
              "      <th>7</th>\n",
              "      <td>0.300000</td>\n",
              "      <td>0.200</td>\n",
              "      <td>1</td>\n",
              "    </tr>\n",
              "    <tr>\n",
              "      <th>8</th>\n",
              "      <td>0.148000</td>\n",
              "      <td>0.712</td>\n",
              "      <td>category</td>\n",
              "    </tr>\n",
              "    <tr>\n",
              "      <th>9</th>\n",
              "      <td>0.246667</td>\n",
              "      <td>0.200</td>\n",
              "      <td>category</td>\n",
              "    </tr>\n",
              "  </tbody>\n",
              "</table>\n",
              "</div>\n",
              "      <button class=\"colab-df-convert\" onclick=\"convertToInteractive('df-746e659c-8c55-4092-b0b7-dea3e5ecc6be')\"\n",
              "              title=\"Convert this dataframe to an interactive table.\"\n",
              "              style=\"display:none;\">\n",
              "        \n",
              "  <svg xmlns=\"http://www.w3.org/2000/svg\" height=\"24px\"viewBox=\"0 0 24 24\"\n",
              "       width=\"24px\">\n",
              "    <path d=\"M0 0h24v24H0V0z\" fill=\"none\"/>\n",
              "    <path d=\"M18.56 5.44l.94 2.06.94-2.06 2.06-.94-2.06-.94-.94-2.06-.94 2.06-2.06.94zm-11 1L8.5 8.5l.94-2.06 2.06-.94-2.06-.94L8.5 2.5l-.94 2.06-2.06.94zm10 10l.94 2.06.94-2.06 2.06-.94-2.06-.94-.94-2.06-.94 2.06-2.06.94z\"/><path d=\"M17.41 7.96l-1.37-1.37c-.4-.4-.92-.59-1.43-.59-.52 0-1.04.2-1.43.59L10.3 9.45l-7.72 7.72c-.78.78-.78 2.05 0 2.83L4 21.41c.39.39.9.59 1.41.59.51 0 1.02-.2 1.41-.59l7.78-7.78 2.81-2.81c.8-.78.8-2.07 0-2.86zM5.41 20L4 18.59l7.72-7.72 1.47 1.35L5.41 20z\"/>\n",
              "  </svg>\n",
              "      </button>\n",
              "      \n",
              "  <style>\n",
              "    .colab-df-container {\n",
              "      display:flex;\n",
              "      flex-wrap:wrap;\n",
              "      gap: 12px;\n",
              "    }\n",
              "\n",
              "    .colab-df-convert {\n",
              "      background-color: #E8F0FE;\n",
              "      border: none;\n",
              "      border-radius: 50%;\n",
              "      cursor: pointer;\n",
              "      display: none;\n",
              "      fill: #1967D2;\n",
              "      height: 32px;\n",
              "      padding: 0 0 0 0;\n",
              "      width: 32px;\n",
              "    }\n",
              "\n",
              "    .colab-df-convert:hover {\n",
              "      background-color: #E2EBFA;\n",
              "      box-shadow: 0px 1px 2px rgba(60, 64, 67, 0.3), 0px 1px 3px 1px rgba(60, 64, 67, 0.15);\n",
              "      fill: #174EA6;\n",
              "    }\n",
              "\n",
              "    [theme=dark] .colab-df-convert {\n",
              "      background-color: #3B4455;\n",
              "      fill: #D2E3FC;\n",
              "    }\n",
              "\n",
              "    [theme=dark] .colab-df-convert:hover {\n",
              "      background-color: #434B5C;\n",
              "      box-shadow: 0px 1px 3px 1px rgba(0, 0, 0, 0.15);\n",
              "      filter: drop-shadow(0px 1px 2px rgba(0, 0, 0, 0.3));\n",
              "      fill: #FFFFFF;\n",
              "    }\n",
              "  </style>\n",
              "\n",
              "      <script>\n",
              "        const buttonEl =\n",
              "          document.querySelector('#df-746e659c-8c55-4092-b0b7-dea3e5ecc6be button.colab-df-convert');\n",
              "        buttonEl.style.display =\n",
              "          google.colab.kernel.accessAllowed ? 'block' : 'none';\n",
              "\n",
              "        async function convertToInteractive(key) {\n",
              "          const element = document.querySelector('#df-746e659c-8c55-4092-b0b7-dea3e5ecc6be');\n",
              "          const dataTable =\n",
              "            await google.colab.kernel.invokeFunction('convertToInteractive',\n",
              "                                                     [key], {});\n",
              "          if (!dataTable) return;\n",
              "\n",
              "          const docLinkHtml = 'Like what you see? Visit the ' +\n",
              "            '<a target=\"_blank\" href=https://colab.research.google.com/notebooks/data_table.ipynb>data table notebook</a>'\n",
              "            + ' to learn more about interactive tables.';\n",
              "          element.innerHTML = '';\n",
              "          dataTable['output_type'] = 'display_data';\n",
              "          await google.colab.output.renderOutput(dataTable, element);\n",
              "          const docLink = document.createElement('div');\n",
              "          docLink.innerHTML = docLinkHtml;\n",
              "          element.appendChild(docLink);\n",
              "        }\n",
              "      </script>\n",
              "    </div>\n",
              "  </div>\n",
              "  "
            ]
          },
          "metadata": {},
          "execution_count": 72
        }
      ]
    },
    {
      "cell_type": "code",
      "source": [
        "sns.scatterplot(data=clustered_df, x='x', y='y', hue='category')"
      ],
      "metadata": {
        "colab": {
          "base_uri": "https://localhost:8080/",
          "height": 297
        },
        "id": "u2SrNnpfLt5I",
        "outputId": "e00911c9-2ca2-40cb-86b8-1a3f68c7bc17"
      },
      "execution_count": 74,
      "outputs": [
        {
          "output_type": "execute_result",
          "data": {
            "text/plain": [
              "<matplotlib.axes._subplots.AxesSubplot at 0x7f30be6f92d0>"
            ]
          },
          "metadata": {},
          "execution_count": 74
        },
        {
          "output_type": "display_data",
          "data": {
            "text/plain": [
              "<Figure size 432x288 with 1 Axes>"
            ],
            "image/png": "[encoded data removed]"
          },
          "metadata": {
            "needs_background": "light"
          }
        }
      ]
    },
    {
      "cell_type": "markdown",
      "source": [
        "# ICS 1"
      ],
      "metadata": {
        "id": "m_h5E66mNj28"
      }
    },
    {
      "cell_type": "code",
      "source": [
        "P10 = (3, 5, 2, 4, 1, 8, 6, 9, 7, 10)\n",
        "P8 = (4, 6, 1, 7, 2, 8, 3, 5)\n",
        "P4 = (3, 1, 4, 2)\n",
        "\n",
        "IP = (3, 2, 4, 6, 7, 1, 5, 8)\n",
        "IPi = (4, 7, 8, 1, 3, 5, 2, 6)\n",
        "\n",
        "E = (4, 1, 2, 3, 2, 3, 4, 1)\n",
        "\n",
        "s0 =[\n",
        "     [1, 0, 3, 2],\n",
        "     [3, 2, 1, 0],\n",
        "     [0, 2, 1, 3],\n",
        "     [3, 1, 3, 2]\n",
        "]\n",
        "\n",
        "s1 = [\n",
        "      [0, 1, 2, 3],\n",
        "      [2, 0, 1, 3],\n",
        "      [3, 0, 1, 0],\n",
        "      [2, 1, 0 ,3]\n",
        "]"
      ],
      "metadata": {
        "id": "P5jZZLeeNWSj"
      },
      "execution_count": 77,
      "outputs": []
    },
    {
      "cell_type": "code",
      "source": [
        "def permutation(key, pattern):\n",
        "  permuted = ''\n",
        "  for i in pattern:\n",
        "    permuted += key[i-1]\n",
        "  return permuted\n",
        "\n",
        "def sbox(s, x):\n",
        "  row = int(x[0]+x[3], 2)\n",
        "  col = int(x[1]+x[2], 2)\n",
        "  return bin(s[row][col])[2:].zfill(2)"
      ],
      "metadata": {
        "id": "VJ1o5ThlcsQk"
      },
      "execution_count": 79,
      "outputs": []
    },
    {
      "cell_type": "code",
      "source": [
        "def fk(b, d, key):\n",
        "  #Expansion transformation\n",
        "  ext_op = permutation(d, E)\n",
        "  print(f\"Output after expansion: {ext_op}\")\n",
        "\n",
        "  #ExOR with subkey\n",
        "  xor = bin(int(ext_op, 2) ^ int(key, 2))[2:].zfill(8)\n",
        "  print(\"o/p after XOR with key: \", xor)\n",
        "\n",
        "  #Sbox\n",
        "  sbox0 = sbox(s0, xor[0:4])\n",
        "  sbox1 = sbox(s1, xor[4:8])\n",
        "  print(\"SBOX0: \", sbox0)\n",
        "  print(\"SBOX1: \", sbox1)\n",
        "\n",
        "  p4 = permutation((sbox0+sbox1), P4)\n",
        "  print(\"P4: \", p4)\n",
        "  ans = bin(int(p4, 2) ^ int(b, 2))[2:].zfill(4)\n",
        "  print(\"Again XOR with left: \", ans)\n",
        "  print(\"Output after this fk: \", (ans + d),\"\\n\\n\")\n",
        "  return ans\n"
      ],
      "metadata": {
        "id": "v3KR8REWcsO2"
      },
      "execution_count": 86,
      "outputs": []
    },
    {
      "cell_type": "code",
      "source": [
        "# Take input\n",
        "\n",
        "plain_text = input(\"Enter 8 bit plain text: \")\n",
        "if len(plain_text) != 8:\n",
        "  raise Exception('check length')\n",
        "key = input(\"Please eneter 10 bit key: \")\n",
        "if len(key)!=10:\n",
        "  raise Exception(\"Check if key is of 10 bits: \")\n",
        "\n",
        "# Please enter 8 bit plain-text: 10101010\n",
        "# Please enter 10 bit key1010101010"
      ],
      "metadata": {
        "colab": {
          "base_uri": "https://localhost:8080/"
        },
        "id": "A79a21ExcsM8",
        "outputId": "cb9bcd69-5b2b-4700-8734-98d2e69704ff"
      },
      "execution_count": 82,
      "outputs": [
        {
          "name": "stdout",
          "output_type": "stream",
          "text": [
            "Enter 8 bit plain text: 10101010\n",
            "Please eneter 10 bit key: 1010101010\n"
          ]
        }
      ]
    },
    {
      "cell_type": "code",
      "source": [
        "# Key generation\n",
        "\n",
        "p10_op = permutation(key, P10)\n",
        "l0 = p10_op[0:5]\n",
        "r0 = p10_op[5:10]\n",
        "\n",
        "# Shift\n",
        "l0 = l0[1:] + l0[:1]\n",
        "r0 = r0[1:] + r0[:1]\n",
        "\n",
        "#p8\n",
        "sk_1 = permutation((l0+r0), P8) #subkey 1\n",
        "\n",
        "# Again shift\n",
        "l1 = l0[2:] + l0[:2]\n",
        "r1 = r0[2:] + r0[:2]\n",
        "\n",
        "sk_2 = permutation((l1+r1), P8) #subkey 2\n",
        "\n",
        "print(\"First subkey: \",sk_1)\n",
        "print(\"Second subkey: \",sk_2)\n"
      ],
      "metadata": {
        "colab": {
          "base_uri": "https://localhost:8080/"
        },
        "id": "dP5itLH8csK2",
        "outputId": "08b92076-4529-4f13-fac3-75253bef3256"
      },
      "execution_count": 87,
      "outputs": [
        {
          "output_type": "stream",
          "name": "stdout",
          "text": [
            "First subkey:  10110101\n",
            "Second subkey:  11001010\n"
          ]
        }
      ]
    },
    {
      "cell_type": "code",
      "source": [
        "ip = permutation(plain_text, IP)\n",
        "\n",
        "fk1 = fk(ip[0:4], ip[4:8], sk_1)\n",
        "\n",
        "fk2 = fk(ip[4:8], fk1, sk_2)\n",
        "\n",
        "# Final permutation\n",
        "ip_inv = permutation((fk2+fk1), IPi)\n",
        "print(\"Final Cipher text: \", ip_inv)"
      ],
      "metadata": {
        "colab": {
          "base_uri": "https://localhost:8080/"
        },
        "id": "XtrCehBejIeT",
        "outputId": "c5fd44a5-5bfd-499f-a219-474da8d7a3ad"
      },
      "execution_count": 88,
      "outputs": [
        {
          "output_type": "stream",
          "name": "stdout",
          "text": [
            "Output after expansion: 01111101\n",
            "o/p after XOR with key:  11001000\n",
            "SBOX0:  01\n",
            "SBOX1:  11\n",
            "P4:  1011\n",
            "Again XOR with left:  0011\n",
            "Output after this fk:  00111110 \n",
            "\n",
            "\n",
            "Output after expansion: 10010110\n",
            "o/p after XOR with key:  01011100\n",
            "SBOX0:  01\n",
            "SBOX1:  01\n",
            "P4:  0011\n",
            "Again XOR with left:  1101\n",
            "Output after this fk:  11010011 \n",
            "\n",
            "\n",
            "Final Cipher text:  11110010\n"
          ]
        }
      ]
    },
    {
      "cell_type": "markdown",
      "source": [
        "# ICS 2"
      ],
      "metadata": {
        "id": "C7_Y0XDAsfPz"
      }
    },
    {
      "cell_type": "markdown",
      "source": [
        "# ICS 3\n"
      ],
      "metadata": {
        "id": "6nOLiqBrNrpb"
      }
    },
    {
      "cell_type": "code",
      "source": [
        "# Diffie-Hellman Key Exchange\n",
        "\n",
        "def fpow(a, b, m):\n",
        "  if b == 0:\n",
        "    return 1\n",
        "  r = fpow(a, b//2, m)\n",
        "  r = (r*r) % m\n",
        "  if b%2 == 1:\n",
        "    r = (r*a)%m\n",
        "  return r\n",
        "\n",
        "# Global variable\n",
        "P=23"
      ],
      "metadata": {
        "id": "k_dclnluNs5E"
      },
      "execution_count": 90,
      "outputs": []
    },
    {
      "cell_type": "code",
      "source": [
        "# Calculating G (primitive root)\n",
        "G=0\n",
        "for r in range(1, P, 1):\n",
        "  s=set()\n",
        "  for x in range(P-1):\n",
        "    s.add(fpow(r, x, P))\n",
        "  if len(s) == P-1:\n",
        "    G=r\n",
        "    break\n",
        "print(G)"
      ],
      "metadata": {
        "colab": {
          "base_uri": "https://localhost:8080/"
        },
        "id": "4rLOmCcLnVJx",
        "outputId": "d8be5330-a065-4340-896e-adb4cecdc4b4"
      },
      "execution_count": 91,
      "outputs": [
        {
          "output_type": "stream",
          "name": "stdout",
          "text": [
            "5\n"
          ]
        }
      ]
    },
    {
      "cell_type": "code",
      "source": [
        "# Private Key\n",
        "Ra = 3\n",
        "Rb = 4"
      ],
      "metadata": {
        "id": "TpfhJVVGnU4g"
      },
      "execution_count": 92,
      "outputs": []
    },
    {
      "cell_type": "code",
      "source": [
        "# Public key\n",
        "Ua = fpow(G, Ra, P)\n",
        "Ub = fpow(G, Rb, P)"
      ],
      "metadata": {
        "id": "M0VZ1mPEnT1h"
      },
      "execution_count": 93,
      "outputs": []
    },
    {
      "cell_type": "code",
      "source": [
        "# Symmetric key calculated by A and B\n",
        "symmetric_key_a = fpow(Ub, Ra, P)\n",
        "symmetric_key_b = fpow(Ua, Rb, P)\n",
        "print(symmetric_key_a)"
      ],
      "metadata": {
        "colab": {
          "base_uri": "https://localhost:8080/"
        },
        "id": "eCqXx3LinTyk",
        "outputId": "d47d1605-4b78-44f6-f422-d5970dd33fef"
      },
      "execution_count": 94,
      "outputs": [
        {
          "output_type": "stream",
          "name": "stdout",
          "text": [
            "18\n"
          ]
        }
      ]
    },
    {
      "cell_type": "code",
      "source": [
        "assert(symmetric_key_a == symmetric_key_b)"
      ],
      "metadata": {
        "id": "P-VeTRuJohsY"
      },
      "execution_count": 95,
      "outputs": []
    },
    {
      "cell_type": "markdown",
      "source": [
        "# ICS 4"
      ],
      "metadata": {
        "id": "Xj7dSC8_a16R"
      }
    },
    {
      "cell_type": "code",
      "source": [
        "def gcd(a, b):\n",
        "  if a==0:\n",
        "    return b\n",
        "  return gcd(b % a, a)\n",
        "\n",
        "def f_pow(a, b, m):\n",
        "  if b == 0:\n",
        "    return 1\n",
        "  r = f_pow(a, b//2, m)\n",
        "  r = (r*r) % m\n",
        "  if b%2==1:\n",
        "    r = (r*a) % m\n",
        "  \n",
        "  return r"
      ],
      "metadata": {
        "id": "WqZBz30Ha3Y8"
      },
      "execution_count": 98,
      "outputs": []
    },
    {
      "cell_type": "code",
      "source": [
        "# Generating Key\n",
        "P=53\n",
        "Q=59\n",
        "\n",
        "n = P*Q\n",
        "phi_n = (P-1)*(Q-1)\n",
        "\n",
        "#Generating e\n",
        "e=2\n",
        "while e < phi_n:\n",
        "  if gcd(e, phi_n) == 1:\n",
        "    break\n",
        "  e+=1"
      ],
      "metadata": {
        "id": "bA4RGnr0psZ8"
      },
      "execution_count": 102,
      "outputs": []
    },
    {
      "cell_type": "code",
      "source": [
        "# Generating d\n",
        "k=1\n",
        "while (k*phi_n +1) % e != 0:\n",
        "  k+=1\n",
        "d = (k*phi_n+1)//e"
      ],
      "metadata": {
        "id": "plKyABzNpsXd"
      },
      "execution_count": 103,
      "outputs": []
    },
    {
      "cell_type": "code",
      "source": [
        "U = [e, n]\n",
        "R = [d, n]\n",
        "\n",
        "print(\"Primes:\\t\\t\", P, \",\", Q)\n",
        "print(\"N:\\t\\t\", n)\n",
        "print(\"phi(N):\\t\\t\", phi_n)\n",
        "print(\"e:\\t\\t\", e)\n",
        "print(\"d:\\t\\t\", d)\n",
        "print(\"Public key:\\t\", \"[e, n] =\", U)\n",
        "print(\"Private key:\\t\", \"[d, n] =\", R)"
      ],
      "metadata": {
        "colab": {
          "base_uri": "https://localhost:8080/"
        },
        "id": "Yt30cay_psVK",
        "outputId": "2f53e152-2ed2-42c1-b382-5af514b0c401"
      },
      "execution_count": 104,
      "outputs": [
        {
          "output_type": "stream",
          "name": "stdout",
          "text": [
            "Primes:\t\t 53 , 59\n",
            "N:\t\t 3127\n",
            "phi(N):\t\t 3016\n",
            "e:\t\t 3\n",
            "d:\t\t 2011\n",
            "Public key:\t [e, n] = [3, 3127]\n",
            "Private key:\t [d, n] = [2011, 3127]\n"
          ]
        }
      ]
    },
    {
      "cell_type": "code",
      "source": [
        "# Testing \n",
        "def encrypt(P, U):\n",
        "  e, n = U\n",
        "  c = f_pow(P, e, n)\n",
        "  return c\n",
        "\n",
        "def decrypt(C, R):\n",
        "  d, n = R\n",
        "  ret = f_pow(C, d, n)\n",
        "  return ret"
      ],
      "metadata": {
        "id": "Tdm_Rk9_rxLZ"
      },
      "execution_count": 105,
      "outputs": []
    },
    {
      "cell_type": "code",
      "source": [
        "plaintext = 89\n",
        "c = encrypt(plaintext, U)\n",
        "p = decrypt(c, R)\n",
        "assert(p == plaintext)"
      ],
      "metadata": {
        "id": "pPTmOSZBr8pj"
      },
      "execution_count": 106,
      "outputs": []
    },
    {
      "cell_type": "markdown",
      "source": [
        "# ICS 5"
      ],
      "metadata": {
        "id": "m1B5Mpdna4I0"
      }
    },
    {
      "cell_type": "code",
      "source": [
        "P = 11"
      ],
      "metadata": {
        "id": "k3_enEk1a5QE"
      },
      "execution_count": 107,
      "outputs": []
    },
    {
      "cell_type": "code",
      "source": [
        "def modulm(a, b, m = P):\n",
        "  return ((a % m)* (b % m)) % m\n",
        "\n",
        "def f__pow(a, b, m=P):\n",
        "  if b == 0:\n",
        "     return 1\n",
        "  r = f__pow(a, b//2, m)\n",
        "  r = (r*r)%m\n",
        "  if b%2 == 1:\n",
        "    r = (r*a)%m\n",
        "  return r\n",
        "\n",
        "def moddiv(a, b, m=P):\n",
        "  return modulm(a, f__pow(b, m-2, m), m)"
      ],
      "metadata": {
        "id": "3naYZbyQvWA9"
      },
      "execution_count": 109,
      "outputs": []
    },
    {
      "cell_type": "code",
      "source": [
        "# CLASSES\n",
        "\n",
        "class Point:\n",
        "  def __init__(self, x, y):\n",
        "    self.x = x\n",
        "    self.y = y\n",
        "  def __eq__(self, p):\n",
        "    return self.x == p.x and self.y == p.y\n",
        "\n",
        "  def __str__(self) -> str:\n",
        "    return f\"({self.x}, {self.y})\"\n",
        "\n",
        "class Elliptic_Curve:\n",
        "  def __init__(self, a, b):\n",
        "    self.a = a\n",
        "    self.b = b\n",
        "  def add(self, p1, p2, m=P):\n",
        "    l=0\n",
        "    if p1==p2:\n",
        "      num = 3 * p1.x * p1.x + self.a\n",
        "      den = 2 * p1.y\n",
        "    else:\n",
        "      num = p1.y - p2.y\n",
        "      den = p1.x - p2.x\n",
        "    l = moddiv(num, den, m)\n",
        "    x3 = (l*l - p1.x - p2.x) % m\n",
        "    y3 = (l*(p1.x-x3)- p1.y) % m\n",
        "    return Point(x3, y3)\n",
        "\n",
        "  def mul(self, k, p):\n",
        "    temp = p\n",
        "    while k != 1:\n",
        "      temp = self.add(temp, p)\n",
        "      k -= 1\n",
        "    return temp\n",
        "\n",
        "  def sub(self, p1, p2):\n",
        "    np = Point(p2.x, -p2.y)\n",
        "    return self.add(p1, np)"
      ],
      "metadata": {
        "id": "d72B0WSfvs_v"
      },
      "execution_count": 114,
      "outputs": []
    },
    {
      "cell_type": "code",
      "source": [
        "curve = Elliptic_Curve(2, 4) # Points lying on this curve:{0, 2}, {0, 5}, {1, 0}, {2, 3}, {2, 4}, {3, 3}, {3, 4}, {6, 1}, {6, 6}\n",
        "G = Point(0, 2)"
      ],
      "metadata": {
        "id": "2mjo8DuEwoel"
      },
      "execution_count": 115,
      "outputs": []
    },
    {
      "cell_type": "code",
      "source": [
        "def encrypt(p, U):\n",
        "  k = 5\n",
        "  c = [\n",
        "       curve.mul(k, G),\n",
        "       curve.add(p, curve.mul(k, U))\n",
        "  ]\n",
        "  return c\n",
        "\n",
        "def decrypt(C, R):\n",
        "  p = curve.sub(C[1], curve.mul(R, C[0]))\n",
        "  return p"
      ],
      "metadata": {
        "id": "HIPidhYMy_29"
      },
      "execution_count": 116,
      "outputs": []
    },
    {
      "cell_type": "code",
      "source": [
        "# Testing\n",
        "\n",
        "R = 5               # Private key\n",
        "U = curve.mul(R, G) # Public key"
      ],
      "metadata": {
        "id": "QpVW8xq3zIUH"
      },
      "execution_count": 117,
      "outputs": []
    },
    {
      "cell_type": "code",
      "source": [
        "plaintext = Point(3, 4)"
      ],
      "metadata": {
        "id": "Idw50R2tzMat"
      },
      "execution_count": 118,
      "outputs": []
    },
    {
      "cell_type": "code",
      "source": [
        "ciphertext = encrypt(plaintext, U)\n",
        "p = decrypt(ciphertext, R)"
      ],
      "metadata": {
        "id": "2a3YHvbLzNAS"
      },
      "execution_count": 119,
      "outputs": []
    },
    {
      "cell_type": "code",
      "source": [
        "print(p)"
      ],
      "metadata": {
        "colab": {
          "base_uri": "https://localhost:8080/"
        },
        "id": "U8_nZC0AzOk2",
        "outputId": "d3c6a2ee-5699-40af-a7f2-3759619d7997"
      },
      "execution_count": 120,
      "outputs": [
        {
          "output_type": "stream",
          "name": "stdout",
          "text": [
            "(3, 4)\n"
          ]
        }
      ]
    },
    {
      "cell_type": "code",
      "source": [
        "assert(p == plaintext)"
      ],
      "metadata": {
        "id": "Vu0SFUkGzQU8"
      },
      "execution_count": 121,
      "outputs": []
    }
  ]
}